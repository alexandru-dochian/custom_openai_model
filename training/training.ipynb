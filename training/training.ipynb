{
 "cells": [
  {
   "attachments": {},
   "cell_type": "markdown",
   "metadata": {},
   "source": [
    "***"
   ]
  },
  {
   "attachments": {},
   "cell_type": "markdown",
   "metadata": {},
   "source": [
    "### Prepare `.jsonl` dataset\n",
    "\n",
    "I have found the verra terms of registry on verra.org:\n",
    " - verra.pdf (https://verra.org/wp-content/uploads/Verra-Registry-TOU-September-2021_FINAL-1.pdf)\n",
    "\n",
    "I automatically transformed it into a .txt file through some random online tool:\n",
    " - verra.txt\n",
    "\n",
    "I used the `openai` cli for preparing data:\n",
    "\n",
    "```\n",
    "$ openai tools fine_tunes.prepare_data -f verra.txt\n",
    "```\n",
    "\n",
    "This generated me the final dataset (which is a bit rough):\n",
    " - verra.jsonl"
   ]
  },
  {
   "attachments": {},
   "cell_type": "markdown",
   "metadata": {},
   "source": [
    "***"
   ]
  },
  {
   "attachments": {},
   "cell_type": "markdown",
   "metadata": {},
   "source": [
    "### Upload the dataset on `openai` platform"
   ]
  },
  {
   "cell_type": "code",
   "execution_count": 1,
   "metadata": {},
   "outputs": [],
   "source": [
    "import openai\n",
    "\n",
    "openai.api_key=\"TODO\"\n",
    "\n",
    "upload_response: dict = openai.File.create(\n",
    "    file=open(\"verra.jsonl\", \"rb\"),\n",
    "    purpose='fine-tune'\n",
    ")\n",
    "print(f\"upload_response = {upload_response}\")\n",
    "\n",
    "file_id: str = upload_response['id']\n",
    "print(f\"file_id = {file_id}\")"
   ]
  },
  {
   "attachments": {},
   "cell_type": "markdown",
   "metadata": {},
   "source": [
    "### Overfit `davinci` using latest uploaded dataset"
   ]
  },
  {
   "cell_type": "code",
   "execution_count": null,
   "metadata": {},
   "outputs": [],
   "source": [
    "openai.FineTune.create(\n",
    "    training_file=file_id,\n",
    "    model=\"davinci\"\n",
    ")"
   ]
  },
  {
   "attachments": {},
   "cell_type": "markdown",
   "metadata": {},
   "source": [
    "### When the model has been fitted => get its id"
   ]
  },
  {
   "cell_type": "code",
   "execution_count": 2,
   "metadata": {},
   "outputs": [],
   "source": [
    "response: dict = openai.FineTune.list()\n",
    "model_id: str = response[\"data\"][0][\"fine_tuned_model\"]"
   ]
  },
  {
   "attachments": {},
   "cell_type": "markdown",
   "metadata": {},
   "source": [
    "### Test"
   ]
  },
  {
   "cell_type": "code",
   "execution_count": 16,
   "metadata": {},
   "outputs": [],
   "source": [
    "answer: dict = openai.Completion.create(\n",
    "  model=model_id,\n",
    "  prompt=\"Verra Registry is\",\n",
    "  max_tokens=128,\n",
    "  temperature=0.5\n",
    ")"
   ]
  },
  {
   "cell_type": "code",
   "execution_count": 4,
   "metadata": {},
   "outputs": [],
   "source": [
    "answer['choices'][0]['text']"
   ]
  },
  {
   "attachments": {},
   "cell_type": "markdown",
   "metadata": {},
   "source": [
    "```\n",
    " the proprietary database of Verra that records the holdings of Instruments of the various Users of the Verra Registry. For the avoidance of doubt, the Verra Registry does not record the holdings of any Instruments of Users other than Verra. Verra may, in its absolute discretion, delete or remove any Instruments or holdings of Instruments from the Verra Registry. The Verra Registry is the property of Verra and is protected by law. Users of the Verra Registry are permitted to use the Verra Registry and any information contained therein only in accordance with the terms of these Terms of Use. Any use of the Verra Registry or any information\n",
    "```"
   ]
  },
  {
   "attachments": {},
   "cell_type": "markdown",
   "metadata": {},
   "source": [
    "***"
   ]
  }
 ],
 "metadata": {
  "kernelspec": {
   "display_name": "Python 3",
   "language": "python",
   "name": "python3"
  },
  "language_info": {
   "codemirror_mode": {
    "name": "ipython",
    "version": 3
   },
   "file_extension": ".py",
   "mimetype": "text/x-python",
   "name": "python",
   "nbconvert_exporter": "python",
   "pygments_lexer": "ipython3",
   "version": "3.10.6"
  },
  "orig_nbformat": 4
 },
 "nbformat": 4,
 "nbformat_minor": 2
}
